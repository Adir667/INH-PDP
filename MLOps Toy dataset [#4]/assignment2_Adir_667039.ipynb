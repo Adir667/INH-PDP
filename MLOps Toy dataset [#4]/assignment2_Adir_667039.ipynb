{
 "cells": [
  {
   "cell_type": "markdown",
   "metadata": {
    "tags": []
   },
   "source": [
    "# PDP assignment 2 - ML Ops pipeline (Toy dataset [#4])\n",
    "*Adir Ben Ishay*\n",
    "\n",
    "*667039*\n",
    "\n",
    "*https://github.com/Adir667/INH-PDP*"
   ]
  },
  {
   "cell_type": "markdown",
   "metadata": {},
   "source": [
    "---"
   ]
  },
  {
   "cell_type": "markdown",
   "metadata": {
    "tags": []
   },
   "source": [
    "# Introduction"
   ]
  },
  {
   "cell_type": "markdown",
   "metadata": {},
   "source": [
    "This assignment covers a simple ML Ops pipeline cycle.\n",
    "\n",
    "Data:\n",
    "All data is fictional. The data has been generated so that their distributions are convenient for statistical analysis.\n",
    "\n",
    "Number: A simple index number for each row\n",
    "\n",
    "City: The location of a person (Dallas, New York City, Los Angeles, Mountain View, Boston, Washington D.C., San Diego and Austin)\n",
    "\n",
    "Gender: Gender of a person (Male or Female)\n",
    "\n",
    "Age: The age of a person (Ranging from 25 to 65 years)\n",
    "\n",
    "Income: Annual income of a person (Ranging from -674 to 177175)\n",
    "\n",
    "Illness: Is the person Ill? (Yes or No)\n",
    "\n",
    "Data source: https://www.kaggle.com/datasets/carlolepelaars/toy-dataset"
   ]
  },
  {
   "cell_type": "markdown",
   "metadata": {
    "tags": []
   },
   "source": [
    "# Import libraries"
   ]
  },
  {
   "cell_type": "code",
   "execution_count": 1,
   "metadata": {},
   "outputs": [
    {
     "name": "stdout",
     "output_type": "stream",
     "text": [
      "NumPy already installed, only imported\n",
      "PyPlot already installed, only imported\n",
      "Pandas already installed, only imported\n",
      "sklearn already installed, only imported\n",
      "scipy already installed, only imported\n",
      "Seaborn already installed, only imported\n"
     ]
    }
   ],
   "source": [
    "# numpy as np\n",
    "try:\n",
    "    import numpy as np\n",
    "    print('NumPy already installed, only imported')\n",
    "except ImportError:\n",
    "    !pip install numpy\n",
    "    import numpy as np\n",
    "    print('NumPy was not installed, installed and imported')\n",
    "      \n",
    "# pyplot as plt\n",
    "try:\n",
    "    import matplotlib.pyplot as plt\n",
    "    print('PyPlot already installed, only imported')\n",
    "except ImportError:\n",
    "    !pip install matplotlib\n",
    "    import matplotlib.pyplot as plt\n",
    "    print('PyPlot was not installed, installed and imported')\n",
    "\n",
    "#pandas as pd\n",
    "try:\n",
    "    import pandas as pd\n",
    "    print('Pandas already installed, only imported')\n",
    "except ImportError:\n",
    "    !pip install pandas\n",
    "    import pandas as pd\n",
    "    print('Pandas was not installed, installed and imported')\n",
    "    \n",
    "#skleran    \n",
    "try:\n",
    "    import sklearn\n",
    "    print('sklearn already installed, only imported')\n",
    "except ImportError:\n",
    "    !pip install sklearn\n",
    "    print('sklearn was not installed, installed and imported')\n",
    "\n",
    "#scipy    \n",
    "try:\n",
    "    import scipy\n",
    "    print('scipy already installed, only imported')\n",
    "except ImportError:\n",
    "    !pip install scipy\n",
    "    print('scipy was not installed, installed and imported')\n",
    "    \n",
    "#seaboen as sns\n",
    "try:\n",
    "    import seaborn as sns\n",
    "    print('Seaborn already installed, only imported')\n",
    "except ImportError:\n",
    "    !pip install seaborn\n",
    "    import seaborn as sns\n",
    "    print('Seaborn was not installed, installed and imported')  "
   ]
  },
  {
   "cell_type": "markdown",
   "metadata": {
    "tags": []
   },
   "source": [
    "# 1. Data processing"
   ]
  },
  {
   "cell_type": "markdown",
   "metadata": {
    "tags": []
   },
   "source": [
    "## 1.1 Overview"
   ]
  },
  {
   "cell_type": "code",
   "execution_count": 2,
   "metadata": {},
   "outputs": [],
   "source": [
    "df = pd.read_csv('data/toy.csv', sep = ',', low_memory=False)"
   ]
  },
  {
   "cell_type": "code",
   "execution_count": 3,
   "metadata": {},
   "outputs": [
    {
     "data": {
      "text/html": [
       "<div>\n",
       "<style scoped>\n",
       "    .dataframe tbody tr th:only-of-type {\n",
       "        vertical-align: middle;\n",
       "    }\n",
       "\n",
       "    .dataframe tbody tr th {\n",
       "        vertical-align: top;\n",
       "    }\n",
       "\n",
       "    .dataframe thead th {\n",
       "        text-align: right;\n",
       "    }\n",
       "</style>\n",
       "<table border=\"1\" class=\"dataframe\">\n",
       "  <thead>\n",
       "    <tr style=\"text-align: right;\">\n",
       "      <th></th>\n",
       "      <th>Number</th>\n",
       "      <th>City</th>\n",
       "      <th>Gender</th>\n",
       "      <th>Age</th>\n",
       "      <th>Income</th>\n",
       "      <th>Illness</th>\n",
       "    </tr>\n",
       "  </thead>\n",
       "  <tbody>\n",
       "    <tr>\n",
       "      <th>0</th>\n",
       "      <td>1</td>\n",
       "      <td>Dallas</td>\n",
       "      <td>Male</td>\n",
       "      <td>41</td>\n",
       "      <td>40367.0</td>\n",
       "      <td>No</td>\n",
       "    </tr>\n",
       "    <tr>\n",
       "      <th>1</th>\n",
       "      <td>2</td>\n",
       "      <td>Dallas</td>\n",
       "      <td>Male</td>\n",
       "      <td>54</td>\n",
       "      <td>45084.0</td>\n",
       "      <td>No</td>\n",
       "    </tr>\n",
       "    <tr>\n",
       "      <th>2</th>\n",
       "      <td>3</td>\n",
       "      <td>Dallas</td>\n",
       "      <td>Male</td>\n",
       "      <td>42</td>\n",
       "      <td>52483.0</td>\n",
       "      <td>No</td>\n",
       "    </tr>\n",
       "    <tr>\n",
       "      <th>3</th>\n",
       "      <td>4</td>\n",
       "      <td>Dallas</td>\n",
       "      <td>Male</td>\n",
       "      <td>40</td>\n",
       "      <td>40941.0</td>\n",
       "      <td>No</td>\n",
       "    </tr>\n",
       "    <tr>\n",
       "      <th>4</th>\n",
       "      <td>5</td>\n",
       "      <td>Dallas</td>\n",
       "      <td>Male</td>\n",
       "      <td>46</td>\n",
       "      <td>50289.0</td>\n",
       "      <td>No</td>\n",
       "    </tr>\n",
       "  </tbody>\n",
       "</table>\n",
       "</div>"
      ],
      "text/plain": [
       "   Number    City Gender  Age   Income Illness\n",
       "0       1  Dallas   Male   41  40367.0      No\n",
       "1       2  Dallas   Male   54  45084.0      No\n",
       "2       3  Dallas   Male   42  52483.0      No\n",
       "3       4  Dallas   Male   40  40941.0      No\n",
       "4       5  Dallas   Male   46  50289.0      No"
      ]
     },
     "execution_count": 3,
     "metadata": {},
     "output_type": "execute_result"
    }
   ],
   "source": [
    "df.head()"
   ]
  },
  {
   "cell_type": "markdown",
   "metadata": {
    "tags": []
   },
   "source": [
    "## 1.2 Missing values imputation"
   ]
  },
  {
   "cell_type": "code",
   "execution_count": 4,
   "metadata": {},
   "outputs": [
    {
     "name": "stdout",
     "output_type": "stream",
     "text": [
      "Number     0\n",
      "City       0\n",
      "Gender     0\n",
      "Age        0\n",
      "Income     0\n",
      "Illness    0\n",
      "dtype: int64\n"
     ]
    }
   ],
   "source": [
    "#looking for nulls\n",
    "print(df.isnull().sum())"
   ]
  },
  {
   "cell_type": "markdown",
   "metadata": {},
   "source": [
    "There are no nulls or empty values in this dataset."
   ]
  },
  {
   "cell_type": "markdown",
   "metadata": {
    "tags": []
   },
   "source": [
    "## 1.3 Outlier removal"
   ]
  },
  {
   "cell_type": "markdown",
   "metadata": {},
   "source": [
    "A boxplot visualization is used in order to detect the outliers."
   ]
  },
  {
   "cell_type": "markdown",
   "metadata": {},
   "source": [
    "### 1.3.1 Age"
   ]
  },
  {
   "cell_type": "code",
   "execution_count": 5,
   "metadata": {},
   "outputs": [
    {
     "data": {
      "image/png": "[encoded data removed]",
      "text/plain": [
       "<Figure size 640x480 with 1 Axes>"
      ]
     },
     "metadata": {},
     "output_type": "display_data"
    }
   ],
   "source": [
    "df.boxplot('Age', grid = False, vert = False)\n",
    "plt.show()"
   ]
  },
  {
   "cell_type": "markdown",
   "metadata": {},
   "source": [
    "There seems to be no outliers in the age column."
   ]
  },
  {
   "cell_type": "markdown",
   "metadata": {},
   "source": [
    "### 1.3.2 Income"
   ]
  },
  {
   "cell_type": "code",
   "execution_count": 6,
   "metadata": {},
   "outputs": [
    {
     "data": {
      "image/png": "[encoded data removed]",
      "text/plain": [
       "<Figure size 640x480 with 1 Axes>"
      ]
     },
     "metadata": {},
     "output_type": "display_data"
    }
   ],
   "source": [
    "df.boxplot('Income', grid = False, vert = False)\n",
    "plt.show()"
   ]
  },
  {
   "cell_type": "markdown",
   "metadata": {},
   "source": [
    "The number of alleged outliers in the income column is so large that it is reasonable to consider these as not outliers, but rather indicative of a wide distribution of income values."
   ]
  },
  {
   "cell_type": "markdown",
   "metadata": {},
   "source": [
    "distribution histogram:"
   ]
  },
  {
   "cell_type": "code",
   "execution_count": 7,
   "metadata": {},
   "outputs": [
    {
     "data": {
      "image/png": "[encoded data removed]",
      "text/plain": [
       "<Figure size 640x480 with 1 Axes>"
      ]
     },
     "metadata": {},
     "output_type": "display_data"
    }
   ],
   "source": [
    "plt.hist(df['Income'], bins=100, edgecolor='black')\n",
    "plt.xlabel('Income')\n",
    "plt.ylabel('Count')\n",
    "plt.title('Income Distribution')\n",
    "plt.show()"
   ]
  },
  {
   "cell_type": "markdown",
   "metadata": {
    "tags": []
   },
   "source": [
    "## 1.4. Data types and categorical features"
   ]
  },
  {
   "cell_type": "code",
   "execution_count": 8,
   "metadata": {},
   "outputs": [
    {
     "data": {
      "text/plain": [
       "Number       int64\n",
       "City        object\n",
       "Gender      object\n",
       "Age          int64\n",
       "Income     float64\n",
       "Illness     object\n",
       "dtype: object"
      ]
     },
     "execution_count": 8,
     "metadata": {},
     "output_type": "execute_result"
    }
   ],
   "source": [
    "# check the data types\n",
    "df.dtypes"
   ]
  },
  {
   "cell_type": "markdown",
   "metadata": {},
   "source": [
    "To improve memory and computational efficiency and ensure compatibility with algorithms, adjustments should be made to the following values:\n",
    "\n",
    "    Index Column (\"Number\"): Since the index column does not impact the prediction of illness, it can be dropped from the dataset to save memory and computational resources.\n",
    "\n",
    "    Age and Income Values: The age and income values should be converted to the int32 data type for efficient storage and computation. This reduces memory usage compared to larger numeric types like float64 if the data does not require decimal precision.\n",
    "\n",
    "    Categorical Values: The remaining variables can be converted to categorical values to improve memory efficiency and enable compatibility with certain algorithms. Categorical encoding reduces the memory footprint by representing discrete categories with integers instead of storing them as full strings or objects.\n",
    "\n",
    "By making these adjustments, you can optimize memory usage, improve computational efficiency, and ensure compatibility with various algorithms and analysis techniques."
   ]
  },
  {
   "cell_type": "code",
   "execution_count": 9,
   "metadata": {},
   "outputs": [
    {
     "name": "stdout",
     "output_type": "stream",
     "text": [
      "City       category\n",
      "Gender     category\n",
      "Age           int32\n",
      "Income        int32\n",
      "Illness    category\n",
      "dtype: object\n"
     ]
    }
   ],
   "source": [
    "# Drop a single column by specifying its name\n",
    "df = df.drop('Number', axis=1)\n",
    "\n",
    "#correct types\n",
    "df['Age'] = df['Age'].astype(int)\n",
    "df['Income'] = df['Income'].astype(int)\n",
    "df['City'] = df['City'].astype('category')\n",
    "df['Gender'] = df['Gender'].astype('category')\n",
    "df['Illness'] = df['Illness'].astype('category')\n",
    "\n",
    "# Print the data types of all columns\n",
    "print(df.dtypes)"
   ]
  },
  {
   "cell_type": "markdown",
   "metadata": {
    "tags": []
   },
   "source": [
    "## 1.5 Scaling"
   ]
  },
  {
   "cell_type": "markdown",
   "metadata": {},
   "source": [
    "Data scaling is recommended in machine learning and data analysis to ensure comparable magnitudes among features, facilitate faster convergence of optimization algorithms, and prevent biases in distance-based algorithms. It enhances model performance, interpretability, and the ability to extract meaningful insights from the data."
   ]
  },
  {
   "cell_type": "code",
   "execution_count": 10,
   "metadata": {},
   "outputs": [],
   "source": [
    "from sklearn.preprocessing import StandardScaler\n",
    "\n",
    "# Initialize the scaler\n",
    "scaler = StandardScaler()\n",
    "\n",
    "#save the unscaled values for later refrences\n",
    "income_unscaled = df['Income']\n",
    "\n",
    "# Apply scaling to the 'Income' column\n",
    "df['Income'] = scaler.fit_transform(df[['Income']])"
   ]
  },
  {
   "cell_type": "code",
   "execution_count": null,
   "metadata": {},
   "outputs": [],
   "source": []
  },
  {
   "cell_type": "markdown",
   "metadata": {},
   "source": [
    "# 2. Features"
   ]
  },
  {
   "cell_type": "markdown",
   "metadata": {},
   "source": [
    "In order to find the most predictive features and design new ones, an overview of the distribution for age and income and features correlations are visualized below."
   ]
  },
  {
   "cell_type": "markdown",
   "metadata": {
    "tags": []
   },
   "source": [
    "## 2.1. Distribution and correlations"
   ]
  },
  {
   "cell_type": "markdown",
   "metadata": {},
   "source": [
    "In this part we check the coorelations of the given dataset columns, trying to determine the most predictive features for the model."
   ]
  },
  {
   "cell_type": "markdown",
   "metadata": {
    "tags": []
   },
   "source": [
    "### 2.1.1 Income"
   ]
  },
  {
   "cell_type": "markdown",
   "metadata": {},
   "source": [
    "Correlation coefficient"
   ]
  },
  {
   "cell_type": "code",
   "execution_count": 11,
   "metadata": {},
   "outputs": [
    {
     "name": "stdout",
     "output_type": "stream",
     "text": [
      "Correlation coefficient: 0.0002977773741800343\n"
     ]
    }
   ],
   "source": [
    "# Convert 'Illness' column to binary numeric values: No = 0, Yes = 1\n",
    "df['Illness_numeric'] = (df['Illness'] == 'Yes').astype(int)\n",
    "\n",
    "# Calculate the correlation coefficient\n",
    "correlation = df['Income'].corr(df['Illness_numeric'])\n",
    "\n",
    "print(\"Correlation coefficient:\", correlation)\n"
   ]
  },
  {
   "cell_type": "markdown",
   "metadata": {},
   "source": [
    "There seem to be no coorelation between income and illness."
   ]
  },
  {
   "cell_type": "markdown",
   "metadata": {
    "tags": []
   },
   "source": [
    "### 2.1.2 Age"
   ]
  },
  {
   "cell_type": "markdown",
   "metadata": {},
   "source": [
    "visualiztion with count plot"
   ]
  },
  {
   "cell_type": "code",
   "execution_count": 12,
   "metadata": {},
   "outputs": [
    {
     "data": {
      "image/png": "[encoded data removed]",
      "text/plain": [
       "<Figure size 1000x600 with 1 Axes>"
      ]
     },
     "metadata": {},
     "output_type": "display_data"
    }
   ],
   "source": [
    "plt.figure(figsize=(10, 6))\n",
    "sns.countplot(data=df, x='Age', hue='Illness')\n",
    "plt.title('Distribution of Illness by Age')\n",
    "plt.xlabel('Age')\n",
    "plt.ylabel('Count')\n",
    "plt.legend(title='Illness')\n",
    "plt.show()\n"
   ]
  },
  {
   "cell_type": "markdown",
   "metadata": {},
   "source": [
    "Correlation coefficient"
   ]
  },
  {
   "cell_type": "code",
   "execution_count": 13,
   "metadata": {},
   "outputs": [
    {
     "name": "stdout",
     "output_type": "stream",
     "text": [
      "Correlation coefficient: 0.001811373449451118\n"
     ]
    }
   ],
   "source": [
    "# Calculate the correlation coefficient\n",
    "correlation = df['Age'].corr(df['Illness_numeric'])\n",
    "\n",
    "print(\"Correlation coefficient:\", correlation)\n"
   ]
  },
  {
   "cell_type": "markdown",
   "metadata": {},
   "source": [
    "There seem to be no coorelation between age and illness as well."
   ]
  },
  {
   "cell_type": "markdown",
   "metadata": {
    "tags": []
   },
   "source": [
    "### 2.1.3 City"
   ]
  },
  {
   "cell_type": "markdown",
   "metadata": {},
   "source": [
    "visualiztion with count plot"
   ]
  },
  {
   "cell_type": "code",
   "execution_count": 14,
   "metadata": {},
   "outputs": [
    {
     "data": {
      "image/png": "[encoded data removed]",
      "text/plain": [
       "<Figure size 1000x600 with 1 Axes>"
      ]
     },
     "metadata": {},
     "output_type": "display_data"
    }
   ],
   "source": [
    "plt.figure(figsize=(10, 6))\n",
    "sns.countplot(data=df, x='City', hue='Illness')\n",
    "plt.title('Distribution of Illness by City')\n",
    "plt.xlabel('City')\n",
    "plt.ylabel('Count')\n",
    "plt.legend(title='Illness')\n",
    "plt.show()\n"
   ]
  },
  {
   "cell_type": "markdown",
   "metadata": {},
   "source": [
    "It is not possible to calculate correlation coefficient with categorical representation (their numeric values dont have calculative meaning). Instead, I chose to show the percentage of illness in each city."
   ]
  },
  {
   "cell_type": "code",
   "execution_count": 15,
   "metadata": {},
   "outputs": [
    {
     "name": "stdout",
     "output_type": "stream",
     "text": [
      "                  City  Sickness Percentage\n",
      "New York City    50307             7.992923\n",
      "Los Angeles      32173             7.981848\n",
      "Dallas           19707             8.184909\n",
      "Mountain View    14219             8.284689\n",
      "Austin           12292             8.224862\n",
      "Boston            8301             8.264065\n",
      "Washington D.C.   8120             8.226601\n",
      "San Diego         4881             8.072116\n"
     ]
    }
   ],
   "source": [
    "city_counts = df['City'].value_counts()\n",
    "\n",
    "sick_by_city = df.groupby('City')['Illness_numeric'].mean() * 100\n",
    "sick_by_city = sick_by_city.rename('Sickness Percentage')\n",
    "\n",
    "city_info = pd.concat([city_counts, sick_by_city], axis=1)\n",
    "print(city_info)"
   ]
  },
  {
   "cell_type": "markdown",
   "metadata": {},
   "source": [
    "The city seems to have no effect on the illness rates, even distribution of 8% per city."
   ]
  },
  {
   "cell_type": "markdown",
   "metadata": {},
   "source": [
    "To be more formal accurate, I use Pearson's Chi-square coefficient, also known as Pearson's chi-squared statistic, is a measure of the statistical dependence between two categorical variables. It is used to determine if there is a significant association or relationship between two categorical variables in a contingency table."
   ]
  },
  {
   "cell_type": "code",
   "execution_count": 16,
   "metadata": {},
   "outputs": [
    {
     "name": "stdout",
     "output_type": "stream",
     "text": [
      "Pearson's Chi-square coefficient: 1.966509845229909e-05\n"
     ]
    }
   ],
   "source": [
    "from scipy.stats import chi2_contingency\n",
    "\n",
    "# Create a contingency table of the two categorical variables\n",
    "contingency_table = pd.crosstab(df['Illness'], df['City'])\n",
    "\n",
    "# Perform the chi-square test and calculate Pearson's chi-square coefficient\n",
    "chi2, _, _, expected = chi2_contingency(contingency_table)\n",
    "pearson_chi2 = chi2 / sum(contingency_table.sum())\n",
    "\n",
    "print(\"Pearson's Chi-square coefficient:\", pearson_chi2)\n"
   ]
  },
  {
   "cell_type": "markdown",
   "metadata": {},
   "source": [
    "This number is very close to 0. As expected, no coorelation found for these categories."
   ]
  },
  {
   "cell_type": "markdown",
   "metadata": {
    "tags": []
   },
   "source": [
    "### 2.1.4 Gender"
   ]
  },
  {
   "cell_type": "markdown",
   "metadata": {},
   "source": [
    "visualiztion with count plot"
   ]
  },
  {
   "cell_type": "code",
   "execution_count": 17,
   "metadata": {},
   "outputs": [
    {
     "data": {
      "image/png": "[encoded data removed]",
      "text/plain": [
       "<Figure size 1000x600 with 1 Axes>"
      ]
     },
     "metadata": {},
     "output_type": "display_data"
    }
   ],
   "source": [
    "plt.figure(figsize=(10, 6))\n",
    "sns.countplot(data=df, x='Gender', hue='Illness')\n",
    "plt.title('Distribution of Illness by Gender')\n",
    "plt.xlabel('Gender')\n",
    "plt.ylabel('Count')\n",
    "plt.legend(title='Illness')\n",
    "plt.show()\n"
   ]
  },
  {
   "cell_type": "code",
   "execution_count": 18,
   "metadata": {},
   "outputs": [
    {
     "name": "stdout",
     "output_type": "stream",
     "text": [
      "        Gender  Sickness Percentage\n",
      "Male     83800             8.124105\n",
      "Female   66200             8.052870\n"
     ]
    }
   ],
   "source": [
    "gender_counts = df['Gender'].value_counts()\n",
    "df['Gender_numeric'] = df['Gender'].astype('category').cat.codes\n",
    "sick_by_gender = df.groupby('Gender')['Illness_numeric'].mean() * 100\n",
    "sick_by_gender = sick_by_gender.rename('Sickness Percentage')\n",
    "gender_info = pd.concat([gender_counts, sick_by_gender], axis=1)\n",
    "print(gender_info)\n"
   ]
  },
  {
   "cell_type": "markdown",
   "metadata": {},
   "source": [
    "Again we see the 8% sickness rate, regarless to gender. I begin to think that this fictional dataset has just set randomly 8% of illness regardless to any other parameter."
   ]
  },
  {
   "cell_type": "code",
   "execution_count": 19,
   "metadata": {},
   "outputs": [
    {
     "name": "stdout",
     "output_type": "stream",
     "text": [
      "Percentage of people who are sick: 8.092666666666666\n"
     ]
    }
   ],
   "source": [
    "# Calculate the percentage of people who are sick ('Yes') in the 'Illness' column\n",
    "percentage_sick = (df['Illness'].value_counts(normalize=True)['Yes']) * 100\n",
    "\n",
    "print(\"Percentage of people who are sick:\", percentage_sick)\n"
   ]
  },
  {
   "cell_type": "markdown",
   "metadata": {},
   "source": [
    "**With that conclutions, it is much harder to find coorelations and predictive features of the model (they just dont exist). It seems like the sickness positive values were set randomly across 8% of the data.**"
   ]
  },
  {
   "cell_type": "markdown",
   "metadata": {
    "tags": []
   },
   "source": [
    "## 2.2 Predicting features"
   ]
  },
  {
   "cell_type": "markdown",
   "metadata": {},
   "source": [
    "As seen in the previous section, there is no clear cooraltaion between any of the values and illness category."
   ]
  },
  {
   "cell_type": "markdown",
   "metadata": {
    "tags": []
   },
   "source": [
    "## 2.3 New features"
   ]
  },
  {
   "cell_type": "markdown",
   "metadata": {},
   "source": [
    "The two columns that can be divided into new features are \"Age\" and \"Income\", these are going to be divided to 3 categories of values."
   ]
  },
  {
   "cell_type": "markdown",
   "metadata": {},
   "source": [
    "The new features will probably not have any impact on prediction performance, as there is no correlation whatsoever in the colums that are about to be divided."
   ]
  },
  {
   "cell_type": "code",
   "execution_count": 20,
   "metadata": {},
   "outputs": [
    {
     "name": "stdout",
     "output_type": "stream",
     "text": [
      "          City  Gender  Age    Income Illness  Illness_numeric  \\\n",
      "0       Dallas    Male   41 -2.036294      No                0   \n",
      "1       Dallas    Male   54 -1.847534      No                0   \n",
      "2       Dallas    Male   42 -1.551449      No                0   \n",
      "3       Dallas    Male   40 -2.013324      No                0   \n",
      "4       Dallas    Male   46 -1.639246      No                0   \n",
      "...        ...     ...  ...       ...     ...              ...   \n",
      "149995  Austin    Male   48  0.096689      No                0   \n",
      "149996  Austin    Male   25  0.219901      No                0   \n",
      "149997  Austin    Male   26  0.825638      No                0   \n",
      "149998  Austin    Male   25  0.825357      No                0   \n",
      "149999  Austin  Female   37 -0.160140      No                0   \n",
      "\n",
      "        Gender_numeric Age_Group Income_Level  \n",
      "0                    1     Adult          Low  \n",
      "1                    1    Senior          Low  \n",
      "2                    1     Adult          Low  \n",
      "3                    1     Adult          Low  \n",
      "4                    1     Adult          Low  \n",
      "...                ...       ...          ...  \n",
      "149995               1     Adult          Low  \n",
      "149996               1     Young          Low  \n",
      "149997               1     Young          Low  \n",
      "149998               1     Young          Low  \n",
      "149999               0     Adult          Low  \n",
      "\n",
      "[150000 rows x 9 columns]\n"
     ]
    }
   ],
   "source": [
    "# Define the bin edges and labels for age groups\n",
    "age_bins = [24, 35, 50, 65]\n",
    "age_labels = ['Young', 'Adult', 'Senior']\n",
    "\n",
    "# Create the 'Age Group' column using cut()\n",
    "df['Age_Group'] = pd.cut(df['Age'], bins=age_bins, labels=age_labels, right=False)\n",
    "\n",
    "# Define the bin edges and labels for income levels\n",
    "income_bins = [-675, 30000, 60000, 177176]\n",
    "income_labels = ['Low', 'Medium', 'High']\n",
    "\n",
    "# Create the 'Income Level' column using cut()\n",
    "df['Income_Level'] = pd.cut(df['Income'], bins=income_bins, labels=income_labels, right=False)\n",
    "\n",
    "# Display the updated DataFrame\n",
    "print(df)\n"
   ]
  },
  {
   "cell_type": "code",
   "execution_count": 21,
   "metadata": {},
   "outputs": [
    {
     "data": {
      "text/plain": [
       "City               category\n",
       "Gender             category\n",
       "Age                   int32\n",
       "Income              float64\n",
       "Illness            category\n",
       "Illness_numeric       int32\n",
       "Gender_numeric         int8\n",
       "Age_Group          category\n",
       "Income_Level       category\n",
       "dtype: object"
      ]
     },
     "execution_count": 21,
     "metadata": {},
     "output_type": "execute_result"
    }
   ],
   "source": [
    "df.dtypes"
   ]
  },
  {
   "cell_type": "markdown",
   "metadata": {},
   "source": [
    "Lets evalutae again the coecoefficient, but now for the new categories created (although no coorelation expected)."
   ]
  },
  {
   "cell_type": "markdown",
   "metadata": {},
   "source": [
    "Income level:"
   ]
  },
  {
   "cell_type": "code",
   "execution_count": 22,
   "metadata": {},
   "outputs": [
    {
     "name": "stdout",
     "output_type": "stream",
     "text": [
      "Pearson's Chi-square coefficient: 0.0\n"
     ]
    }
   ],
   "source": [
    "from scipy.stats import chi2_contingency\n",
    "\n",
    "# Create a contingency table of the two categorical variables\n",
    "contingency_table = pd.crosstab(df['Illness'], df['Income_Level'])\n",
    "\n",
    "# Perform the chi-square test and calculate Pearson's chi-square coefficient\n",
    "chi2, _, _, expected = chi2_contingency(contingency_table)\n",
    "pearson_chi2 = chi2 / sum(contingency_table.sum())\n",
    "\n",
    "print(\"Pearson's Chi-square coefficient:\", pearson_chi2)\n"
   ]
  },
  {
   "cell_type": "markdown",
   "metadata": {},
   "source": [
    "Age group:"
   ]
  },
  {
   "cell_type": "code",
   "execution_count": 23,
   "metadata": {},
   "outputs": [
    {
     "name": "stdout",
     "output_type": "stream",
     "text": [
      "Pearson's Chi-square coefficient: 1.1967287242137486e-05\n"
     ]
    }
   ],
   "source": [
    "from scipy.stats import chi2_contingency\n",
    "\n",
    "# Create a contingency table of the two categorical variables\n",
    "contingency_table = pd.crosstab(df['Illness'], df['Age_Group'])\n",
    "\n",
    "# Perform the chi-square test and calculate Pearson's chi-square coefficient\n",
    "chi2, _, _, expected = chi2_contingency(contingency_table)\n",
    "pearson_chi2 = chi2 / sum(contingency_table.sum())\n",
    "\n",
    "print(\"Pearson's Chi-square coefficient:\", pearson_chi2)\n"
   ]
  },
  {
   "cell_type": "markdown",
   "metadata": {},
   "source": [
    "As expected in this scenario, the new features have no impact on the prediction (data is too randomly distributed)."
   ]
  },
  {
   "cell_type": "code",
   "execution_count": null,
   "metadata": {},
   "outputs": [],
   "source": []
  },
  {
   "cell_type": "markdown",
   "metadata": {},
   "source": [
    "# 3. Model "
   ]
  },
  {
   "cell_type": "markdown",
   "metadata": {},
   "source": [
    "For this classification problem, I chose the model \"Logistic Regression\". Logistic Regression is a popular statistical model used for binary classification tasks. Despite its name, logistic regression is a classification algorithm rather than a regression algorithm. It is widely used in various fields, including machine learning, statistics, and social sciences.\n",
    "\n",
    "The Logistic Regression model is based on the logistic function (also called the sigmoid function), which maps any real-valued number to a value between 0 and 1. In binary classification, the logistic regression model estimates the probability of an instance belonging to the positive class (e.g., 1) given its input features.\n",
    "\n",
    "The model assumes a linear relationship between the input features and the log-odds of the positive class. It uses a method called Maximum Likelihood Estimation to learn the optimal coefficients (weights) for each feature. These coefficients are then used to make predictions by calculating the probability of the positive class based on the feature values."
   ]
  },
  {
   "cell_type": "markdown",
   "metadata": {},
   "source": [
    "## 3.1 Model by pipeline"
   ]
  },
  {
   "cell_type": "code",
   "execution_count": 24,
   "metadata": {},
   "outputs": [
    {
     "name": "stdout",
     "output_type": "stream",
     "text": [
      "Accuracy: 0.9207666666666666\n"
     ]
    }
   ],
   "source": [
    "from sklearn.pipeline import Pipeline\n",
    "from sklearn.compose import ColumnTransformer\n",
    "from sklearn.impute import SimpleImputer\n",
    "from sklearn.preprocessing import StandardScaler, OneHotEncoder\n",
    "from sklearn.model_selection import train_test_split\n",
    "from sklearn.linear_model import LogisticRegression\n",
    "\n",
    "# Split the dataset into features (X) and target variable (y)\n",
    "init_df = pd.read_csv('data/toy.csv', sep = ',', low_memory=False)\n",
    "X = init_df.drop('Illness', axis=1) # all but illness\n",
    "y = init_df['Illness']\n",
    "\n",
    "# Define the preprocessing steps for numerical and categorical columns\n",
    "numeric_features = ['Age', 'Income']\n",
    "categorical_features = ['City', 'Gender']\n",
    "\n",
    "numeric_transformer = Pipeline(steps=[\n",
    "    ('imputer', SimpleImputer(strategy='median')),\n",
    "    ('scaler', StandardScaler())\n",
    "])\n",
    "\n",
    "categorical_transformer = Pipeline(steps=[\n",
    "    ('imputer', SimpleImputer(strategy='most_frequent')),\n",
    "    ('encoder', OneHotEncoder())\n",
    "])\n",
    "\n",
    "# Create the column transformer to apply the appropriate preprocessing steps to different columns\n",
    "preprocessor = ColumnTransformer(\n",
    "    transformers=[\n",
    "        ('numeric', numeric_transformer, numeric_features),\n",
    "        ('categorical', categorical_transformer, categorical_features)\n",
    "    ])\n",
    "\n",
    "# Split the data into train and test sets\n",
    "X_train, X_test, y_train, y_test = train_test_split(X, y, test_size=0.2, random_state=42)\n",
    "\n",
    "# Create the pipeline by combining the preprocessing steps with the classification model\n",
    "pipeline = Pipeline(steps=[\n",
    "    ('preprocessor', preprocessor),\n",
    "    ('classifier', LogisticRegression())\n",
    "])\n",
    "\n",
    "# Fit the pipeline to the training data\n",
    "pipeline.fit(X_train, y_train)\n",
    "\n",
    "# Evaluate the model on the test data\n",
    "accuracy = pipeline.score(X_test, y_test)\n",
    "print(f\"Accuracy: {accuracy}\")\n"
   ]
  },
  {
   "cell_type": "markdown",
   "metadata": {},
   "source": [
    "Although no values are missing in this dataset, but if new data contains empty values, they will be replaced by the median for numerical, and by most frequant for categorical. Numerical values are scaled, and categories are converted to one-hot-encoder values."
   ]
  },
  {
   "cell_type": "markdown",
   "metadata": {},
   "source": [
    "## 3.2 Model accuracy"
   ]
  },
  {
   "cell_type": "code",
   "execution_count": 25,
   "metadata": {},
   "outputs": [
    {
     "name": "stdout",
     "output_type": "stream",
     "text": [
      "Accuracy: 0.9207666666666666\n"
     ]
    }
   ],
   "source": [
    "accuracy = pipeline.score(X_test, y_test)\n",
    "print(f\"Accuracy: {accuracy}\")"
   ]
  },
  {
   "cell_type": "markdown",
   "metadata": {},
   "source": [
    "This number seems to be too accurate and related to the 8% of \"random\" illness distribution suggested earlier in this document. If no coorelation was found throughout the process, I would not have expected a good accuracy score. Perhaps the confusion matrix can help understand these results."
   ]
  },
  {
   "cell_type": "markdown",
   "metadata": {},
   "source": [
    "confusion matrix:"
   ]
  },
  {
   "cell_type": "code",
   "execution_count": 26,
   "metadata": {},
   "outputs": [
    {
     "data": {
      "image/png": "[encoded data removed]",
      "text/plain": [
       "<Figure size 800x600 with 2 Axes>"
      ]
     },
     "metadata": {},
     "output_type": "display_data"
    }
   ],
   "source": [
    "import seaborn as sns\n",
    "import matplotlib.pyplot as plt\n",
    "from sklearn.metrics import confusion_matrix\n",
    "\n",
    "# Compute the confusion matrix\n",
    "y_pred = pipeline.predict(X_test)\n",
    "cm = confusion_matrix(y_test, y_pred)\n",
    "\n",
    "# Create a heatmap plot for the confusion matrix\n",
    "plt.figure(figsize=(8, 6))\n",
    "sns.heatmap(cm, annot=True, fmt='d', cmap='Blues')\n",
    "plt.title('Confusion Matrix')\n",
    "plt.xlabel('Predicted')\n",
    "plt.ylabel('Actual')\n",
    "plt.show()\n"
   ]
  },
  {
   "cell_type": "markdown",
   "metadata": {},
   "source": [
    "The model is \"predicting\" and classifying all cases as negative illness (there are no true negatives in the martix). Statisticaly speaking, its high accuracy is achieved simply as a result of the random illness distribution in this dataset. If you always guess negative illness, you will get an accuracy score of 92%."
   ]
  },
  {
   "cell_type": "markdown",
   "metadata": {},
   "source": [
    "AUC (Area Under the Curve):"
   ]
  },
  {
   "cell_type": "code",
   "execution_count": 27,
   "metadata": {},
   "outputs": [
    {
     "name": "stdout",
     "output_type": "stream",
     "text": [
      "AUC: 0.48908482473259807\n"
     ]
    }
   ],
   "source": [
    "from sklearn.preprocessing import LabelEncoder\n",
    "from sklearn.metrics import roc_auc_score\n",
    "from sklearn.metrics import roc_curve\n",
    "\n",
    "# Convert 'No' and 'Yes' labels to numerical values\n",
    "label_encoder = LabelEncoder()\n",
    "y_test_encoded = label_encoder.fit_transform(y_test)\n",
    "\n",
    "# Assuming your model does not have predict_proba method\n",
    "y_pred_scores = pipeline.decision_function(X_test)\n",
    "\n",
    "# Calculate the False Positive Rate, True Positive Rate, and corresponding thresholds\n",
    "fpr, tpr, thresholds = roc_curve(y_test_encoded, y_pred_scores)\n",
    "\n",
    "# Plot the ROC curve\n",
    "plt.plot(fpr, tpr)\n",
    "plt.xlabel('False Positive Rate')\n",
    "plt.ylabel('True Positive Rate')\n",
    "plt.title('ROC Curve')\n",
    "\n",
    "# Calculate the AUC\n",
    "auc = roc_auc_score(y_test_encoded, y_pred_scores)\n",
    "print(\"AUC:\", auc)\n"
   ]
  },
  {
   "cell_type": "markdown",
   "metadata": {},
   "source": [
    "The range of the AUC value is between 0 and 1. A perfect classifier has an AUC value of 1, indicating that it can perfectly separate the positive and negative classes. On the other hand, a random classifier that has no discriminative power will have an AUC value of 0.5.\n",
    "\n",
    "In general, the closer the AUC value is to 1, the better the model's performance in terms of classification. A value above 0.5 suggests that the model is better than random guessing, while a value below 0.5 indicates that the model performs worse than random guessing."
   ]
  },
  {
   "cell_type": "markdown",
   "metadata": {},
   "source": [
    "The accuracy scores of the last 3 methods show again that the illness data is spread randomly, and that the model has not better performance than random gussing of illness value."
   ]
  },
  {
   "cell_type": "markdown",
   "metadata": {},
   "source": [
    "### 3.2.1 Alternative models"
   ]
  },
  {
   "cell_type": "markdown",
   "metadata": {},
   "source": [
    "The models below were tested as well in order to see if there is any significant difference in the accuracy of the model:"
   ]
  },
  {
   "cell_type": "markdown",
   "metadata": {},
   "source": [
    "The following section is commented to allow smoother whole run of the notebook (no better results were achieved with the following models)."
   ]
  },
  {
   "cell_type": "markdown",
   "metadata": {},
   "source": [
    "Random forest:"
   ]
  },
  {
   "cell_type": "code",
   "execution_count": 28,
   "metadata": {},
   "outputs": [],
   "source": [
    "# from sklearn.ensemble import RandomForestClassifier\n",
    "\n",
    "# # Replace the 'classifier' step in the pipeline with Random Forest Classifier\n",
    "# pipeline = Pipeline(steps=[\n",
    "#     ('preprocessor', preprocessor),\n",
    "#     ('classifier', RandomForestClassifier())\n",
    "# ])\n",
    "\n",
    "# # Fit the pipeline to the training data\n",
    "# pipeline.fit(X_train, y_train)\n",
    "\n",
    "# # Evaluate the model on the test data\n",
    "# accuracy = pipeline.score(X_test, y_test)\n",
    "# print(f\"Accuracy: {accuracy}\")\n"
   ]
  },
  {
   "cell_type": "markdown",
   "metadata": {},
   "source": [
    "SVC (support vector machine):"
   ]
  },
  {
   "cell_type": "code",
   "execution_count": 29,
   "metadata": {},
   "outputs": [],
   "source": [
    "# from sklearn.svm import SVC\n",
    "\n",
    "# # Replace the 'classifier' step in the pipeline with Support Vector Classifier\n",
    "# pipeline = Pipeline(steps=[\n",
    "#     ('preprocessor', preprocessor),\n",
    "#     ('classifier', SVC())\n",
    "# ])\n",
    "\n",
    "# # Fit the pipeline to the training data\n",
    "# pipeline.fit(X_train, y_train)\n",
    "\n",
    "# # Evaluate the model on the test data\n",
    "# accuracy = pipeline.score(X_test, y_test)\n",
    "# print(f\"Accuracy: {accuracy}\")\n"
   ]
  },
  {
   "cell_type": "markdown",
   "metadata": {},
   "source": [
    "## 3.3 Illness prediction"
   ]
  },
  {
   "cell_type": "code",
   "execution_count": 30,
   "metadata": {},
   "outputs": [],
   "source": [
    "def predict_illness(city, gender, age, income):\n",
    "    # Create a DataFrame with the input data\n",
    "    data = pd.DataFrame({\n",
    "        'City': [city],\n",
    "        'Gender': [gender],\n",
    "        'Age': [age],\n",
    "        'Income': [income],\n",
    "    })\n",
    "\n",
    "    # Use the trained pipeline to make predictions\n",
    "    prediction = pipeline.predict(data)\n",
    "\n",
    "    # Return the prediction (0 for 'No' and 1 for 'Yes')\n",
    "    return prediction[0]\n"
   ]
  },
  {
   "cell_type": "code",
   "execution_count": 31,
   "metadata": {},
   "outputs": [
    {
     "data": {
      "text/plain": [
       "'No'"
      ]
     },
     "execution_count": 31,
     "metadata": {},
     "output_type": "execute_result"
    }
   ],
   "source": [
    "predict_illness('Dallas', 'Female', 38, 74000)"
   ]
  },
  {
   "cell_type": "markdown",
   "metadata": {},
   "source": [
    "**As seen in the confusion matrix, the answer will always be 'No'**"
   ]
  },
  {
   "cell_type": "markdown",
   "metadata": {},
   "source": [
    "## 3.4 Pipeline cycle time calculation"
   ]
  },
  {
   "cell_type": "code",
   "execution_count": 32,
   "metadata": {},
   "outputs": [
    {
     "name": "stdout",
     "output_type": "stream",
     "text": [
      "Execution time: 0.694725513458252 seconds\n"
     ]
    }
   ],
   "source": [
    "import time\n",
    "# Fit the pipeline to the training data and measure execution time\n",
    "start_time = time.time()\n",
    "pipeline.fit(X_train, y_train)\n",
    "end_time = time.time()\n",
    "\n",
    "# Calculate the execution time in seconds\n",
    "execution_time = end_time - start_time\n",
    "\n",
    "print(f\"Execution time: {execution_time} seconds\")"
   ]
  },
  {
   "cell_type": "markdown",
   "metadata": {},
   "source": [
    "On my local machine, the pipeline cycle time took ~0.6 seconds:\n"
   ]
  },
  {
   "attachments": {
    "4780b163-4375-4174-a86b-161a0c6ef138.jpg": {
     "image/jpeg": "[encoded data removed]"
    }
   },
   "cell_type": "markdown",
   "metadata": {},
   "source": [
    "![Screenshot 2023-05-21 180107.jpg](attachment:4780b163-4375-4174-a86b-161a0c6ef138.jpg)"
   ]
  },
  {
   "cell_type": "markdown",
   "metadata": {},
   "source": [
    "# 4. Discussion"
   ]
  },
  {
   "cell_type": "markdown",
   "metadata": {},
   "source": [
    "Throughout this document, we have discussed the challenges faced during the prediction process due to the random distribution of data across the dataset. This randomness posed a significant obstacle for the model, as it achieved its best results by simply guessing the most frequent value, which in this case was \"not sick\". Despite exploring various methods, including visualization tools, no substantial correlations or relationships were discovered among the factors.\n",
    "\n",
    "Given the limited richness of details in this dataset, the options for creating new features were somewhat constrained. I decided to categorize the age and income columns into three distinct categories based on their values. Alternatively, I considered combining these columns with others, such as age, to create new features like \"mid-aged\" or together with gender, \"mid-aged-women\".\n",
    "\n",
    "The developed pipeline encompasses all the necessary stages of the machine learning process and is characterized by its efficiency in terms of memory consumption and computational power, making it concise and user-friendly."
   ]
  }
 ],
 "metadata": {
  "kernelspec": {
   "display_name": "Python 3 (ipykernel)",
   "language": "python",
   "name": "python3"
  },
  "language_info": {
   "codemirror_mode": {
    "name": "ipython",
    "version": 3
   },
   "file_extension": ".py",
   "mimetype": "text/x-python",
   "name": "python",
   "nbconvert_exporter": "python",
   "pygments_lexer": "ipython3",
   "version": "3.9.16"
  }
 },
 "nbformat": 4,
 "nbformat_minor": 4
}
