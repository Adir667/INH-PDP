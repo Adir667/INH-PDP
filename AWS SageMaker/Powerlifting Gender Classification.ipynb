{
 "cells": [
  {
   "cell_type": "markdown",
   "metadata": {
    "jp-MarkdownHeadingCollapsed": true,
    "tags": []
   },
   "source": [
    "# PDP assignment 4 - MLOps pipeline (AWS SageMaker)\n",
    "*Adir Ben Ishay*\n",
    "\n",
    "*667039*\n",
    "\n",
    "*https://github.com/Adir667/INH-PDP*"
   ]
  },
  {
   "cell_type": "markdown",
   "metadata": {
    "jp-MarkdownHeadingCollapsed": true,
    "tags": []
   },
   "source": [
    "# Import"
   ]
  },
  {
   "cell_type": "code",
   "execution_count": 1,
   "metadata": {},
   "outputs": [
    {
     "name": "stdout",
     "output_type": "stream",
     "text": [
      "NumPy already installed, only imported\n",
      "pandas already installed, only imported\n",
      "PyPlot already installed, only imported\n",
      "Requirement already satisfied: sklearn in c:\\users\\adir7\\anaconda3\\lib\\site-packages (0.0.post1)\n",
      "sklearn was not installed, installed and imported\n",
      "Seaborn already installed, only imported\n"
     ]
    }
   ],
   "source": [
    "# numpy as np\n",
    "try:\n",
    "    import numpy as np\n",
    "    print('NumPy already installed, only imported')\n",
    "except:\n",
    "    !pip install numpy\n",
    "    import numpy as np\n",
    "    print('NumPy was not installed, installed and imported')\n",
    "    \n",
    "    # pandas as pd   \n",
    "try:\n",
    "    import pandas as pd\n",
    "    print('pandas already installed, only imported')\n",
    "except:\n",
    "    !pip install pandas\n",
    "    import pandas as pd\n",
    "    print('pandas was not installed, installed and imported')    \n",
    "    \n",
    "    # pyplot as plt\n",
    "try:\n",
    "    import matplotlib.pyplot as plt\n",
    "    print('PyPlot already installed, only imported')\n",
    "except:\n",
    "    !pip install matplotlib\n",
    "    import matplotlib.pyplot as plt\n",
    "    print('PyPlot was not installed, installed and imported')\n",
    "    \n",
    "    # sklearn\n",
    "try:\n",
    "    import sklean\n",
    "    print('sklearn already installed, only imported')\n",
    "except:\n",
    "    !pip install sklearn\n",
    "    print('sklearn was not installed, installed and imported')\n",
    "    \n",
    "    #seaboen as sns\n",
    "try:\n",
    "    import seaborn as sns\n",
    "    print('Seaborn already installed, only imported')\n",
    "except:\n",
    "    !pip install seaborn\n",
    "    import seaborn as sns\n",
    "    print('Seaborn was not installed, installed and imported')  "
   ]
  },
  {
   "cell_type": "markdown",
   "metadata": {
    "tags": []
   },
   "source": [
    "# 1. The Data\n",
    "We are going to use the datafile powerlifting.csv. This contains data from the OpenPowerlifting database as of April 2019. Powerlifting is a sport in which competitors compete to lift the most weight for their class in three separate barbell lifts: the Squat, Bench, and Deadlift."
   ]
  },
  {
   "cell_type": "markdown",
   "metadata": {
    "tags": []
   },
   "source": [
    "## 1.1 Overview"
   ]
  },
  {
   "cell_type": "markdown",
   "metadata": {},
   "source": [
    "Source: https://www.kaggle.com/datasets/kukuroo3/powerlifting-benchpress-weight-predict"
   ]
  },
  {
   "cell_type": "code",
   "execution_count": 2,
   "metadata": {},
   "outputs": [],
   "source": [
    "# enter the code to load the data\n",
    "lifting_df = pd.read_csv('data/powerLifting.csv', sep = ',', low_memory=False)"
   ]
  },
  {
   "cell_type": "markdown",
   "metadata": {},
   "source": [
    "Here's a quick look at the data:"
   ]
  },
  {
   "cell_type": "code",
   "execution_count": 3,
   "metadata": {},
   "outputs": [
    {
     "name": "stdout",
     "output_type": "stream",
     "text": [
      "Number of rows in the dataframe: 11100\n"
     ]
    }
   ],
   "source": [
    "num_rows = lifting_df.shape[0]\n",
    "print(\"Number of rows in the dataframe:\", num_rows)"
   ]
  },
  {
   "cell_type": "code",
   "execution_count": 4,
   "metadata": {},
   "outputs": [
    {
     "data": {
      "text/html": [
       "<div>\n",
       "<style scoped>\n",
       "    .dataframe tbody tr th:only-of-type {\n",
       "        vertical-align: middle;\n",
       "    }\n",
       "\n",
       "    .dataframe tbody tr th {\n",
       "        vertical-align: top;\n",
       "    }\n",
       "\n",
       "    .dataframe thead th {\n",
       "        text-align: right;\n",
       "    }\n",
       "</style>\n",
       "<table border=\"1\" class=\"dataframe\">\n",
       "  <thead>\n",
       "    <tr style=\"text-align: right;\">\n",
       "      <th></th>\n",
       "      <th>playerId</th>\n",
       "      <th>Name</th>\n",
       "      <th>Sex</th>\n",
       "      <th>Equipment</th>\n",
       "      <th>Age</th>\n",
       "      <th>BodyweightKg</th>\n",
       "      <th>BestSquatKg</th>\n",
       "      <th>BestDeadliftKg</th>\n",
       "    </tr>\n",
       "  </thead>\n",
       "  <tbody>\n",
       "    <tr>\n",
       "      <th>0</th>\n",
       "      <td>2308.0</td>\n",
       "      <td>Peter Neeves</td>\n",
       "      <td>M</td>\n",
       "      <td>Wraps</td>\n",
       "      <td>30.0</td>\n",
       "      <td>89.81</td>\n",
       "      <td>179.17</td>\n",
       "      <td>192.78</td>\n",
       "    </tr>\n",
       "    <tr>\n",
       "      <th>1</th>\n",
       "      <td>22404.0</td>\n",
       "      <td>Josh Padilla</td>\n",
       "      <td>M</td>\n",
       "      <td>Raw</td>\n",
       "      <td>27.0</td>\n",
       "      <td>74.95</td>\n",
       "      <td>125.00</td>\n",
       "      <td>165.00</td>\n",
       "    </tr>\n",
       "    <tr>\n",
       "      <th>2</th>\n",
       "      <td>23397.0</td>\n",
       "      <td>Luke Dreier</td>\n",
       "      <td>M</td>\n",
       "      <td>Wraps</td>\n",
       "      <td>30.0</td>\n",
       "      <td>122.61</td>\n",
       "      <td>290.00</td>\n",
       "      <td>317.50</td>\n",
       "    </tr>\n",
       "    <tr>\n",
       "      <th>3</th>\n",
       "      <td>25058.0</td>\n",
       "      <td>Jacob New</td>\n",
       "      <td>M</td>\n",
       "      <td>Raw</td>\n",
       "      <td>20.0</td>\n",
       "      <td>88.00</td>\n",
       "      <td>187.50</td>\n",
       "      <td>240.00</td>\n",
       "    </tr>\n",
       "    <tr>\n",
       "      <th>4</th>\n",
       "      <td>2664.0</td>\n",
       "      <td>Jesse Burdick</td>\n",
       "      <td>M</td>\n",
       "      <td>Wraps</td>\n",
       "      <td>30.0</td>\n",
       "      <td>122.00</td>\n",
       "      <td>235.01</td>\n",
       "      <td>275.01</td>\n",
       "    </tr>\n",
       "  </tbody>\n",
       "</table>\n",
       "</div>"
      ],
      "text/plain": [
       "   playerId           Name Sex Equipment   Age  BodyweightKg  BestSquatKg  \\\n",
       "0    2308.0   Peter Neeves   M     Wraps  30.0         89.81       179.17   \n",
       "1   22404.0   Josh Padilla   M       Raw  27.0         74.95       125.00   \n",
       "2   23397.0    Luke Dreier   M     Wraps  30.0        122.61       290.00   \n",
       "3   25058.0      Jacob New   M       Raw  20.0         88.00       187.50   \n",
       "4    2664.0  Jesse Burdick   M     Wraps  30.0        122.00       235.01   \n",
       "\n",
       "   BestDeadliftKg  \n",
       "0          192.78  \n",
       "1          165.00  \n",
       "2          317.50  \n",
       "3          240.00  \n",
       "4          275.01  "
      ]
     },
     "execution_count": 4,
     "metadata": {},
     "output_type": "execute_result"
    }
   ],
   "source": [
    "# enter the code to see the first few rows of the data\n",
    "lifting_df.head()"
   ]
  },
  {
   "cell_type": "markdown",
   "metadata": {},
   "source": [
    "The dataset contains the playerId, name, gender, type of equipment used, the competitor body wieght and the results of the best squat and deadlift (in kg). we will try to classify the gender of the competitor by their best squat and deadlift"
   ]
  },
  {
   "cell_type": "markdown",
   "metadata": {},
   "source": [
    "The categorical dependent variable \"Sex\" has the following categories:"
   ]
  },
  {
   "cell_type": "code",
   "execution_count": 5,
   "metadata": {},
   "outputs": [
    {
     "name": "stdout",
     "output_type": "stream",
     "text": [
      "['M' 'F']\n"
     ]
    }
   ],
   "source": [
    "gender_values = lifting_df['Sex'].unique()\n",
    "print(gender_values)"
   ]
  },
  {
   "cell_type": "markdown",
   "metadata": {
    "tags": []
   },
   "source": [
    "## 1.2 Cleaining"
   ]
  },
  {
   "cell_type": "code",
   "execution_count": 6,
   "metadata": {},
   "outputs": [
    {
     "name": "stdout",
     "output_type": "stream",
     "text": [
      "playerId            0\n",
      "Name                0\n",
      "Sex                 0\n",
      "Equipment           0\n",
      "Age               245\n",
      "BodyweightKg        0\n",
      "BestSquatKg         0\n",
      "BestDeadliftKg      0\n",
      "dtype: int64\n"
     ]
    }
   ],
   "source": [
    "#looking for nulls\n",
    "print(lifting_df.isnull().sum())"
   ]
  },
  {
   "cell_type": "markdown",
   "metadata": {},
   "source": [
    "Age is not used for this classification, so we can leave it in"
   ]
  },
  {
   "cell_type": "code",
   "execution_count": 7,
   "metadata": {},
   "outputs": [
    {
     "data": {
      "text/plain": [
       "playerId          float64\n",
       "Name               object\n",
       "Sex                object\n",
       "Equipment          object\n",
       "Age               float64\n",
       "BodyweightKg      float64\n",
       "BestSquatKg       float64\n",
       "BestDeadliftKg    float64\n",
       "dtype: object"
      ]
     },
     "execution_count": 7,
     "metadata": {},
     "output_type": "execute_result"
    }
   ],
   "source": [
    "lifting_df.dtypes"
   ]
  },
  {
   "cell_type": "markdown",
   "metadata": {},
   "source": [
    "lets correct this, and remove the irrelevant column for this classification scenario"
   ]
  },
  {
   "cell_type": "code",
   "execution_count": 8,
   "metadata": {},
   "outputs": [],
   "source": [
    "\n",
    "lifting_df['Sex']=lifting_df['Sex'].astype('category')\n",
    "lifting_df['BestSquatKg'] = lifting_df['BestSquatKg'].astype('float64')\n",
    "\n",
    "#these are not relevant for this paper analysis\n",
    "lifting_df.drop(['playerId', 'Name', 'Equipment', 'Age', 'BodyweightKg'], axis=1, inplace=True)"
   ]
  },
  {
   "cell_type": "code",
   "execution_count": 9,
   "metadata": {},
   "outputs": [
    {
     "name": "stdout",
     "output_type": "stream",
     "text": [
      "       BestSquatKg  BestDeadliftKg\n",
      "0           179.17          192.78\n",
      "1           125.00          165.00\n",
      "2           290.00          317.50\n",
      "3           187.50          240.00\n",
      "4           235.01          275.01\n",
      "...            ...             ...\n",
      "11095       270.00          315.00\n",
      "11096        92.50          137.50\n",
      "11097       250.00          311.00\n",
      "11098       105.00          152.50\n",
      "11099       105.00          145.00\n",
      "\n",
      "[11100 rows x 2 columns]\n"
     ]
    }
   ],
   "source": [
    "# Remove negative values from 'BestSquatKg' and 'BestDeadliftKg' columns\n",
    "lifting_df[['BestSquatKg', 'BestDeadliftKg']] = lifting_df[['BestSquatKg', 'BestDeadliftKg']].apply(lambda x: x.where(x >= 0))\n",
    "\n",
    "# Print the updated DataFrame\n",
    "print(lifting_df[['BestSquatKg', 'BestDeadliftKg']])"
   ]
  },
  {
   "cell_type": "code",
   "execution_count": 10,
   "metadata": {},
   "outputs": [
    {
     "data": {
      "text/plain": [
       "Sex               category\n",
       "BestSquatKg        float64\n",
       "BestDeadliftKg     float64\n",
       "dtype: object"
      ]
     },
     "execution_count": 10,
     "metadata": {},
     "output_type": "execute_result"
    }
   ],
   "source": [
    "lifting_df.dtypes"
   ]
  },
  {
   "cell_type": "code",
   "execution_count": 11,
   "metadata": {},
   "outputs": [
    {
     "data": {
      "text/html": [
       "<div>\n",
       "<style scoped>\n",
       "    .dataframe tbody tr th:only-of-type {\n",
       "        vertical-align: middle;\n",
       "    }\n",
       "\n",
       "    .dataframe tbody tr th {\n",
       "        vertical-align: top;\n",
       "    }\n",
       "\n",
       "    .dataframe thead th {\n",
       "        text-align: right;\n",
       "    }\n",
       "</style>\n",
       "<table border=\"1\" class=\"dataframe\">\n",
       "  <thead>\n",
       "    <tr style=\"text-align: right;\">\n",
       "      <th></th>\n",
       "      <th>Sex</th>\n",
       "      <th>BestSquatKg</th>\n",
       "      <th>BestDeadliftKg</th>\n",
       "    </tr>\n",
       "  </thead>\n",
       "  <tbody>\n",
       "    <tr>\n",
       "      <th>0</th>\n",
       "      <td>M</td>\n",
       "      <td>179.17</td>\n",
       "      <td>192.78</td>\n",
       "    </tr>\n",
       "    <tr>\n",
       "      <th>1</th>\n",
       "      <td>M</td>\n",
       "      <td>125.00</td>\n",
       "      <td>165.00</td>\n",
       "    </tr>\n",
       "    <tr>\n",
       "      <th>2</th>\n",
       "      <td>M</td>\n",
       "      <td>290.00</td>\n",
       "      <td>317.50</td>\n",
       "    </tr>\n",
       "    <tr>\n",
       "      <th>3</th>\n",
       "      <td>M</td>\n",
       "      <td>187.50</td>\n",
       "      <td>240.00</td>\n",
       "    </tr>\n",
       "    <tr>\n",
       "      <th>4</th>\n",
       "      <td>M</td>\n",
       "      <td>235.01</td>\n",
       "      <td>275.01</td>\n",
       "    </tr>\n",
       "  </tbody>\n",
       "</table>\n",
       "</div>"
      ],
      "text/plain": [
       "  Sex  BestSquatKg  BestDeadliftKg\n",
       "0   M       179.17          192.78\n",
       "1   M       125.00          165.00\n",
       "2   M       290.00          317.50\n",
       "3   M       187.50          240.00\n",
       "4   M       235.01          275.01"
      ]
     },
     "execution_count": 11,
     "metadata": {},
     "output_type": "execute_result"
    }
   ],
   "source": [
    "lifting_df.head()"
   ]
  },
  {
   "cell_type": "code",
   "execution_count": 12,
   "metadata": {},
   "outputs": [
    {
     "data": {
      "image/png": "[encoded data removed]",
      "text/plain": [
       "<Figure size 640x480 with 1 Axes>"
      ]
     },
     "metadata": {},
     "output_type": "display_data"
    }
   ],
   "source": [
    "lifting_df.boxplot('BestDeadliftKg', grid = False, vert = False)\n",
    "plt.show()"
   ]
  },
  {
   "cell_type": "code",
   "execution_count": 13,
   "metadata": {},
   "outputs": [
    {
     "data": {
      "image/png": "[encoded data removed]",
      "text/plain": [
       "<Figure size 640x480 with 1 Axes>"
      ]
     },
     "metadata": {},
     "output_type": "display_data"
    }
   ],
   "source": [
    "lifting_df.boxplot('BestSquatKg', grid = False, vert = False)\n",
    "plt.show()"
   ]
  },
  {
   "cell_type": "markdown",
   "metadata": {
    "tags": []
   },
   "source": [
    "# 2. Classification Models\n",
    "\n",
    "Model selection and baseline explore"
   ]
  },
  {
   "cell_type": "code",
   "execution_count": 14,
   "metadata": {},
   "outputs": [],
   "source": [
    "# code to split data in training and testing\n",
    "from sklearn.model_selection import train_test_split\n",
    "\n",
    "# Split the data into training and testing sets\n",
    "X = lifting_df[['BestSquatKg', 'BestDeadliftKg']] # Feature variables\n",
    "y = lifting_df['Sex'] # Target variable\n",
    "X_train, X_test, y_train, y_test = train_test_split(X, y, test_size=0.2, random_state=42)"
   ]
  },
  {
   "cell_type": "markdown",
   "metadata": {},
   "source": [
    "## 2.1 Baseline"
   ]
  },
  {
   "cell_type": "markdown",
   "metadata": {},
   "source": [
    "All set, lets try to predict this using our independent variables BestSquatKg, BestDeadliftKg"
   ]
  },
  {
   "cell_type": "markdown",
   "metadata": {},
   "source": [
    "Before we look at some 'real' models, its a good idea to get a baseline in by using one or more of the dummy classifiers. Lets see how they perform:"
   ]
  },
  {
   "cell_type": "code",
   "execution_count": 15,
   "metadata": {},
   "outputs": [],
   "source": [
    "from sklearn import metrics\n",
    "from sklearn.metrics import confusion_matrix\n",
    "\n",
    "# Import the standardscaler package\n",
    "from sklearn.preprocessing import StandardScaler\n",
    "\n",
    "gender = {\"M\":1, \"F\":0}\n",
    "labels = gender.keys()\n",
    "k = len(labels)\n",
    "\n",
    "# set the scaler\n",
    "scaler = StandardScaler()\n",
    "scaler.fit(X_train)\n",
    "\n",
    "# Convert the train and test X values, using the same scaler (so based on the X_train)\n",
    "X_trainScaled = scaler.transform(X_train)\n",
    "X_testScaled = scaler.transform(X_test)"
   ]
  },
  {
   "cell_type": "markdown",
   "metadata": {},
   "source": [
    "**Dummy Classifier - Most Frequent** <br>\n",
    "Sometimes referred to as ZeroR classification."
   ]
  },
  {
   "cell_type": "code",
   "execution_count": 16,
   "metadata": {},
   "outputs": [
    {
     "name": "stdout",
     "output_type": "stream",
     "text": [
      "accuracy score: 0.6774774774774774\n"
     ]
    },
    {
     "data": {
      "image/png": "[encoded data removed]",
      "text/plain": [
       "<Figure size 640x480 with 2 Axes>"
      ]
     },
     "metadata": {},
     "output_type": "display_data"
    }
   ],
   "source": [
    "from sklearn.dummy import DummyClassifier\n",
    "\n",
    "dumMF = DummyClassifier(strategy='most_frequent')\n",
    "dumMF = dumMF.fit(X_trainScaled, y_train)\n",
    "y_pred = dumMF.predict(X_testScaled)\n",
    "print('accuracy score:', metrics.accuracy_score(y_test, y_pred))\n",
    "\n",
    "sns.heatmap(confusion_matrix(y_test, y_pred), annot=True, cmap='Blues', fmt='g')\n",
    "plt.xlabel('predicted value')\n",
    "plt.ylabel('actual value')\n",
    "plt.xticks(np.arange(k)+1/k, labels)\n",
    "plt.yticks(np.arange(k)+1/k, labels)\n",
    "plt.show()"
   ]
  },
  {
   "cell_type": "markdown",
   "metadata": {},
   "source": [
    "Our baseline \"dummy\" model score is around 0.67"
   ]
  },
  {
   "cell_type": "markdown",
   "metadata": {},
   "source": [
    "## 2.2 Classification models"
   ]
  },
  {
   "cell_type": "markdown",
   "metadata": {},
   "source": [
    "**Naive Bayes**"
   ]
  },
  {
   "cell_type": "markdown",
   "metadata": {},
   "source": [
    "Naive Bayes is a type of classification algorithm that is based on Bayes' theorem. It assumes that the presence or absence of a particular feature is independent of the presence or absence of any other feature. The algorithm uses this assumption to calculate the probability of a particular class given a set of features, and then selects the class with the highest probability as the predicted class for a given input. In other words, it calculates the probability of each class given the input data, and selects the class with the highest probability as the predicted class."
   ]
  },
  {
   "cell_type": "markdown",
   "metadata": {},
   "source": [
    "Lets create and fit this model:"
   ]
  },
  {
   "cell_type": "code",
   "execution_count": 17,
   "metadata": {},
   "outputs": [
    {
     "data": {
      "text/plain": [
       "0        1\n",
       "1        1\n",
       "2        1\n",
       "3        1\n",
       "4        1\n",
       "        ..\n",
       "11095    1\n",
       "11096    0\n",
       "11097    1\n",
       "11098    0\n",
       "11099    0\n",
       "Length: 11100, dtype: int8"
      ]
     },
     "execution_count": 17,
     "metadata": {},
     "output_type": "execute_result"
    }
   ],
   "source": [
    "# code to create the model, and fit the data.\n",
    "lifting_df['Sex'].cat.codes"
   ]
  },
  {
   "cell_type": "code",
   "execution_count": 18,
   "metadata": {},
   "outputs": [],
   "source": [
    "X = lifting_df[['BestSquatKg', 'BestDeadliftKg']]\n",
    "y = lifting_df['Sex']"
   ]
  },
  {
   "cell_type": "code",
   "execution_count": 19,
   "metadata": {},
   "outputs": [],
   "source": [
    "from sklearn.naive_bayes import CategoricalNB"
   ]
  },
  {
   "cell_type": "markdown",
   "metadata": {},
   "source": [
    "Now to measure its performance:"
   ]
  },
  {
   "cell_type": "code",
   "execution_count": 20,
   "metadata": {},
   "outputs": [
    {
     "name": "stdout",
     "output_type": "stream",
     "text": [
      "accuracy score: 0.8883783783783784\n"
     ]
    },
    {
     "data": {
      "image/png": "[encoded data removed]",
      "text/plain": [
       "<Figure size 640x480 with 2 Axes>"
      ]
     },
     "metadata": {},
     "output_type": "display_data"
    }
   ],
   "source": [
    "# code to show its accuracy score AND confusion matrix.\n",
    "catNB = CategoricalNB()\n",
    "catNB.fit(X, y)\n",
    "\n",
    "y_pred = catNB.predict(X)\n",
    "\n",
    "print('accuracy score:', metrics.accuracy_score(y, y_pred))\n",
    "# The confusion matrix\n",
    "\n",
    "sns.heatmap(confusion_matrix(y, y_pred), annot=True, cmap='Blues', fmt='g')\n",
    "plt.xlabel('predicted value')\n",
    "plt.ylabel('actual value')\n",
    "plt.show()"
   ]
  },
  {
   "cell_type": "markdown",
   "metadata": {
    "tags": []
   },
   "source": [
    "## 2.3 Prediction"
   ]
  },
  {
   "cell_type": "code",
   "execution_count": 26,
   "metadata": {},
   "outputs": [
    {
     "name": "stdout",
     "output_type": "stream",
     "text": [
      "['F']\n"
     ]
    },
    {
     "name": "stderr",
     "output_type": "stream",
     "text": [
      "C:\\Users\\adir7\\AppData\\Roaming\\Python\\Python39\\site-packages\\sklearn\\base.py:439: UserWarning: X does not have valid feature names, but CategoricalNB was fitted with feature names\n",
      "  warnings.warn(\n"
     ]
    }
   ],
   "source": [
    "# code to show the prediction\n",
    "genderTest=[82, 101] # BestSquatKg, BestDeadliftKg\n",
    "genderTest=np.array(genderTest)\n",
    "genderTest = genderTest.reshape(1, -1)\n",
    "print(catNB.predict(genderTest))"
   ]
  },
  {
   "cell_type": "code",
   "execution_count": 27,
   "metadata": {},
   "outputs": [
    {
     "name": "stdout",
     "output_type": "stream",
     "text": [
      "Class probabilities: [[0.92868896 0.07131104]]\n"
     ]
    },
    {
     "name": "stderr",
     "output_type": "stream",
     "text": [
      "C:\\Users\\adir7\\AppData\\Roaming\\Python\\Python39\\site-packages\\sklearn\\base.py:439: UserWarning: X does not have valid feature names, but CategoricalNB was fitted with feature names\n",
      "  warnings.warn(\n"
     ]
    }
   ],
   "source": [
    "probabilities = catNB.predict_proba(genderTest)\n",
    "print('Class probabilities:', probabilities)"
   ]
  },
  {
   "cell_type": "markdown",
   "metadata": {},
   "source": [
    "# 3. Pipeline"
   ]
  },
  {
   "cell_type": "code",
   "execution_count": 42,
   "metadata": {},
   "outputs": [
    {
     "name": "stdout",
     "output_type": "stream",
     "text": [
      "Accuracy: 0.8900900900900901\n"
     ]
    }
   ],
   "source": [
    "import pandas as pd\n",
    "from sklearn.pipeline import Pipeline\n",
    "from sklearn.compose import ColumnTransformer\n",
    "from sklearn.impute import SimpleImputer\n",
    "from sklearn.preprocessing import StandardScaler, OneHotEncoder\n",
    "from sklearn.model_selection import train_test_split\n",
    "from sklearn.naive_bayes import CategoricalNB\n",
    "from sklearn.metrics import accuracy_score\n",
    "\n",
    "# Load the data\n",
    "lifting_df = pd.read_csv('data/powerlifting.csv', sep = ',', low_memory=False)\n",
    "\n",
    "# fix\n",
    "lifting_df['Sex'] = lifting_df['Sex'].astype('category')\n",
    "lifting_df['BestSquatKg'] = lifting_df['BestSquatKg'].astype('float64')\n",
    "lifting_df['BestDeadliftKg'] = lifting_df['BestDeadliftKg'].astype('float64')\n",
    "\n",
    "#these are not relevant for this paper analysis\n",
    "lifting_df.drop(['playerId', 'Name', 'Equipment', 'Age', 'BodyweightKg'], axis=1, inplace=True)\n",
    "\n",
    "\n",
    "# Split the data into training and testing sets\n",
    "X_train, X_test, y_train, y_test = train_test_split(X, y, test_size=0.2, random_state=42)\n",
    "\n",
    "# Create the pipeline by combining the preprocessing steps with the classification model\n",
    "pipeline = Pipeline(steps=[\n",
    "    ('classifier', CategoricalNB())\n",
    "])\n",
    "\n",
    "# Fit the pipeline to the training data\n",
    "pipeline.fit(X_train, y_train)\n",
    "\n",
    "# Evaluate the model on the test data\n",
    "y_pred = pipeline.predict(X_test)\n",
    "accuracy = accuracy_score(y_test, y_pred)\n",
    "print(f\"Accuracy: {accuracy}\")\n"
   ]
  }
 ],
 "metadata": {
  "kernelspec": {
   "display_name": "Python 3 (ipykernel)",
   "language": "python",
   "name": "python3"
  },
  "language_info": {
   "codemirror_mode": {
    "name": "ipython",
    "version": 3
   },
   "file_extension": ".py",
   "mimetype": "text/x-python",
   "name": "python",
   "nbconvert_exporter": "python",
   "pygments_lexer": "ipython3",
   "version": "3.9.16"
  }
 },
 "nbformat": 4,
 "nbformat_minor": 4
}
